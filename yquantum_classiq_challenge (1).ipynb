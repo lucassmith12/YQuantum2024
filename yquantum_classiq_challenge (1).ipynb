{
  "cells": [
    {
      "cell_type": "markdown",
      "metadata": {
        "id": "SGw8wH1eEPmJ"
      },
      "source": [
        "## Classiq's YQuantum 2024 Sparse State-Preparation Challenge\n",
        "\n",
        "Welcome to the Sparse State-Preparation Challenge, presented by Classiq at YQuantum 2024. This challenge is designed for quantum computing enthusiasts of all levels, aiming to enhance your understanding and spur innovation in sparse state-preparation.\n",
        "\n",
        "### Challenge Overview\n",
        "- **Objective**: Develop quantum circuits that efficiently prepare sparse quantum states. These states are characterized by a small number of non-zero amplitudes, reducing quantum resource requirements and enhancing practical execution on near-term quantum hardware.\n",
        "\n",
        "### Background\n",
        "- **Importance of State Preparation**: State preparation is a crucial first step for many quantum algorithms. It involves setting a quantum state to represent a specific vector of probabilities or functions. The challenge focuses on sparse states, which are pivotal in applications like quantum linear algebra and quantum machine learning.\n",
        "\n",
        "### Problem Statement\n",
        "- **Sparse State-Preparation**: Your task is to create circuits that load a quantum state with probabilities corresponding to a given sparse vector. This challenge highlights the nuances of designing circuits that are both efficient and effective for today's quantum computing limitations.\n",
        "\n",
        "### Resources and Guidance\n",
        "- **Classiq's Tools**: Utilize Classiq’s platform, QMOD language, and SDK, which provide robust tools for designing and testing quantum algorithms. Participants are encouraged to base their implementations on \"An Efficient Algorithm for Sparse Quantum State Preparation\" by Niels Gleinig and Torsten Hoefler.\n",
        "\n",
        "### Goals and Expectations\n",
        "- **Output Goal**: Efficiently prepare a quantum state reflecting specified probabilities, ensuring high fidelity and resource efficiency.\n",
        "- **Example**: For input `{‘00000001’: 0.25, ‘00010001’: 0.5, ‘11001000’: 0.25}`, the output quantum state should correspond to these probabilities.\n"
      ]
    },
    {
      "cell_type": "code",
      "execution_count": null,
      "metadata": {
        "id": "753naqETEPmM",
        "colab": {
          "base_uri": "https://localhost:8080/"
        },
        "outputId": "00ac7473-ab37-4920-f966-b1e5c55beb7a"
      },
      "outputs": [
        {
          "output_type": "stream",
          "name": "stdout",
          "text": [
            "Requirement already satisfied: classiq in /usr/local/lib/python3.10/dist-packages (0.39.0)\n",
            "Requirement already satisfied: ConfigArgParse<2.0.0,>=1.5.3 in /usr/local/lib/python3.10/dist-packages (from classiq) (1.7)\n",
            "Requirement already satisfied: Pyomo<6.6,>=6.5 in /usr/local/lib/python3.10/dist-packages (from classiq) (6.5.0)\n",
            "Requirement already satisfied: httpx<1,>=0.23.0 in /usr/local/lib/python3.10/dist-packages (from classiq) (0.27.0)\n",
            "Requirement already satisfied: keyring<24.0.0,>=23.5.0 in /usr/lib/python3/dist-packages (from classiq) (23.5.0)\n",
            "Requirement already satisfied: matplotlib<4.0.0,>=3.4.3 in /usr/local/lib/python3.10/dist-packages (from classiq) (3.7.1)\n",
            "Requirement already satisfied: networkx<3.0.0,>=2.5.1 in /usr/local/lib/python3.10/dist-packages (from classiq) (2.8.8)\n",
            "Requirement already satisfied: numexpr<3.0.0,>=2.7.3 in /usr/local/lib/python3.10/dist-packages (from classiq) (2.10.0)\n",
            "Requirement already satisfied: numpy<2.0.0,>=1.20.1 in /usr/local/lib/python3.10/dist-packages (from classiq) (1.25.2)\n",
            "Requirement already satisfied: packaging<22.0,>=21.3 in /usr/local/lib/python3.10/dist-packages (from classiq) (21.3)\n",
            "Requirement already satisfied: pandas<2.0.0,>=1.4.0 in /usr/local/lib/python3.10/dist-packages (from classiq) (1.5.3)\n",
            "Requirement already satisfied: plotly<6.0.0,>=5.7.0 in /usr/local/lib/python3.10/dist-packages (from classiq) (5.15.0)\n",
            "Requirement already satisfied: pydantic<2.0.0,>=1.9.1 in /usr/local/lib/python3.10/dist-packages (from classiq) (1.10.15)\n",
            "Requirement already satisfied: scipy==1.10.1 in /usr/local/lib/python3.10/dist-packages (from classiq) (1.10.1)\n",
            "Requirement already satisfied: sympy<1.11.0,>=1.9.0 in /usr/local/lib/python3.10/dist-packages (from classiq) (1.10.1)\n",
            "Requirement already satisfied: tabulate<1,>=0.8.9 in /usr/local/lib/python3.10/dist-packages (from classiq) (0.9.0)\n",
            "Requirement already satisfied: anyio in /usr/local/lib/python3.10/dist-packages (from httpx<1,>=0.23.0->classiq) (3.7.1)\n",
            "Requirement already satisfied: certifi in /usr/local/lib/python3.10/dist-packages (from httpx<1,>=0.23.0->classiq) (2024.2.2)\n",
            "Requirement already satisfied: httpcore==1.* in /usr/local/lib/python3.10/dist-packages (from httpx<1,>=0.23.0->classiq) (1.0.5)\n",
            "Requirement already satisfied: idna in /usr/local/lib/python3.10/dist-packages (from httpx<1,>=0.23.0->classiq) (3.6)\n",
            "Requirement already satisfied: sniffio in /usr/local/lib/python3.10/dist-packages (from httpx<1,>=0.23.0->classiq) (1.3.1)\n",
            "Requirement already satisfied: h11<0.15,>=0.13 in /usr/local/lib/python3.10/dist-packages (from httpcore==1.*->httpx<1,>=0.23.0->classiq) (0.14.0)\n",
            "Requirement already satisfied: contourpy>=1.0.1 in /usr/local/lib/python3.10/dist-packages (from matplotlib<4.0.0,>=3.4.3->classiq) (1.2.1)\n",
            "Requirement already satisfied: cycler>=0.10 in /usr/local/lib/python3.10/dist-packages (from matplotlib<4.0.0,>=3.4.3->classiq) (0.12.1)\n",
            "Requirement already satisfied: fonttools>=4.22.0 in /usr/local/lib/python3.10/dist-packages (from matplotlib<4.0.0,>=3.4.3->classiq) (4.51.0)\n",
            "Requirement already satisfied: kiwisolver>=1.0.1 in /usr/local/lib/python3.10/dist-packages (from matplotlib<4.0.0,>=3.4.3->classiq) (1.4.5)\n",
            "Requirement already satisfied: pillow>=6.2.0 in /usr/local/lib/python3.10/dist-packages (from matplotlib<4.0.0,>=3.4.3->classiq) (9.4.0)\n",
            "Requirement already satisfied: pyparsing>=2.3.1 in /usr/local/lib/python3.10/dist-packages (from matplotlib<4.0.0,>=3.4.3->classiq) (3.1.2)\n",
            "Requirement already satisfied: python-dateutil>=2.7 in /usr/local/lib/python3.10/dist-packages (from matplotlib<4.0.0,>=3.4.3->classiq) (2.8.2)\n",
            "Requirement already satisfied: pytz>=2020.1 in /usr/local/lib/python3.10/dist-packages (from pandas<2.0.0,>=1.4.0->classiq) (2023.4)\n",
            "Requirement already satisfied: tenacity>=6.2.0 in /usr/local/lib/python3.10/dist-packages (from plotly<6.0.0,>=5.7.0->classiq) (8.2.3)\n",
            "Requirement already satisfied: typing-extensions>=4.2.0 in /usr/local/lib/python3.10/dist-packages (from pydantic<2.0.0,>=1.9.1->classiq) (4.11.0)\n",
            "Requirement already satisfied: ply in /usr/local/lib/python3.10/dist-packages (from Pyomo<6.6,>=6.5->classiq) (3.11)\n",
            "Requirement already satisfied: mpmath>=0.19 in /usr/local/lib/python3.10/dist-packages (from sympy<1.11.0,>=1.9.0->classiq) (1.3.0)\n",
            "Requirement already satisfied: six>=1.5 in /usr/local/lib/python3.10/dist-packages (from python-dateutil>=2.7->matplotlib<4.0.0,>=3.4.3->classiq) (1.16.0)\n",
            "Requirement already satisfied: exceptiongroup in /usr/local/lib/python3.10/dist-packages (from anyio->httpx<1,>=0.23.0->classiq) (1.2.0)\n",
            "Your user code: SDCP-DFMH\n",
            "If a browser doesn't automatically open, please visit this URL from any trusted device: https://auth.classiq.io/activate?user_code=SDCP-DFMH\n"
          ]
        }
      ],
      "source": [
        "!pip install -U classiq\n",
        "import classiq\n",
        "classiq.authenticate()"
      ]
    },
    {
      "cell_type": "code",
      "execution_count": null,
      "metadata": {
        "id": "Ya7z8vk9EPmN"
      },
      "outputs": [],
      "source": [
        "from classiq import *\n",
        "import numpy as np\n",
        "import math"
      ]
    },
    {
      "cell_type": "markdown",
      "metadata": {
        "id": "3_IfmFSvEPmN"
      },
      "source": [
        "## Classical Functions\n",
        "This section includes utility functions for classical pre-processing in quantum algorithms:\n",
        "\n",
        "- `dict_to_3d_array(sparse_states)`: Converts a dictionary of sparse states into a 3D array format.\n",
        "- `custom_filter(func, iterable)`: Filters items in an iterable based on a function.\n",
        "- `unequal_sets(t, n)`: Determines the best qubit to split a set `t` into subsets with a significant size difference.\n",
        "- `process_subsets(t, n, dif_qubits, dif_values)`: Processes subsets to determine difference qubits and values.\n",
        "- `toggle_operations(index, n, x_x, ops1, ops2, s)`: Toggles operations based on the index condition.\n",
        "- `conditional_toggle(ops1, ops2, n, dif, b, s)`: Conditionally toggles based on a difference.\n",
        "- `calc_alpha_beta(x_1, x_2)`: Calculates and adjusts alpha and beta values."
      ]
    },
    {
      "cell_type": "code",
      "execution_count": null,
      "metadata": {
        "id": "zejYwT1tEPmN"
      },
      "outputs": [],
      "source": [
        "def dict_to_3d_array(sparse_states):\n",
        "    array_3d = []\n",
        "\n",
        "    for key, value in sparse_states.items():\n",
        "        point = [int(digit) for digit in key]\n",
        "        array_3d.append([point, value])\n",
        "\n",
        "    return array_3d\n",
        "\n",
        "def custom_filter(func, iterable):\n",
        "    return [item for item in iterable if func(item)]\n",
        "\n",
        "def unequal_sets(t, n):\n",
        "\n",
        "    best_qubit = None\n",
        "    T_0=[]\n",
        "    T_1=[]\n",
        "    current_difference = float('-inf')\n",
        "\n",
        "    for b in range(n):\n",
        "        #Filter list based on boolean condition\n",
        "        T_0 = custom_filter(lambda x, b=b: x[0][b] == 0, t)\n",
        "        T_1 = custom_filter(lambda x, b=b: x[0][b] == 1, t)\n",
        "\n",
        "        # Check if both sets are non-empty\n",
        "        if len(T_0) != 0 and len(T_1) != 0:\n",
        "            difference = abs(len(T_0) - len(T_1))\n",
        "            #If new max difference\n",
        "            if difference > current_difference:\n",
        "                current_difference = difference\n",
        "                best_qubit = b\n",
        "                t_0 = T_0\n",
        "                t_1 = T_1\n",
        "\n",
        "    return best_qubit,t_0, t_1\n",
        "\n",
        "def process_subsets(t, n, dif_qubits, dif_values):\n",
        "    while len(t) > 1:\n",
        "        b, T_0, T_1 = unequal_sets(t, n)\n",
        "        dif_qubits.append(b)\n",
        "        if len(T_0) < len(T_1):\n",
        "            t = T_0\n",
        "            dif_values.append(0)\n",
        "        else:\n",
        "            t = T_1\n",
        "            dif_values.append(1)\n",
        "    return dif_qubits, dif_values, t\n",
        "\n",
        "def toggle_operations(index,n, x_x, ops1, ops2,s):\n",
        "    if x_x[0][index] != 1: #Identical code\n",
        "            ops1 += [1]\n",
        "            ops2 += [n-1-index]\n",
        "            for x in s:\n",
        "                x[0][index]= int(not x[0][index])\n",
        "\n",
        "def conditional_toggle(ops1,ops2,n,dif,b,s):\n",
        "    ops1 += [2]\n",
        "    sx = [n-1-dif,n-1-b]\n",
        "    ops2 += [sx]\n",
        "    for x in s:\n",
        "        if x[0][dif] == 1:\n",
        "            x[0][b] = int(not x[0][b])\n",
        "\n",
        "def calc_alpha_beta(x_1,x_2):\n",
        "    beta = x_1[1]\n",
        "    alpha = x_2[1]\n",
        "\n",
        "    x_2[1] = alpha+beta\n",
        "    alpha = alpha/x_2[1]\n",
        "    beta = beta/x_2[1]\n",
        "\n",
        "    return alpha, beta"
      ]
    },
    {
      "cell_type": "markdown",
      "metadata": {
        "id": "HBv1p9DZEPmN"
      },
      "source": [
        "## Quantum Functions\n",
        "This section details quantum operations essential for the algorithm:\n",
        "\n",
        "- Quantum functions corresponding to the classical ones, allowing operations on quantum states based on classical pre-processing."
      ]
    },
    {
      "cell_type": "code",
      "execution_count": null,
      "metadata": {
        "id": "0vUHEMBaEPmN"
      },
      "outputs": [],
      "source": [
        "#TODO implement unitary_control() using Classiq's built in control()\n",
        "@qfunc\n",
        "def unitary_control(qubit: QArray[QBit], contrl: QArray[QBit], target: QParam[int]):\n",
        "      control(lambda: X(qubit[target]), contrl)\n",
        "\n",
        "#TODO implement y_rotation using the RY() gate\n",
        "@qfunc\n",
        "def y_rotation(theta: QParam[float], reg: QArray[QBit], target: QParam[int]):\n",
        "      RY(theta = theta, target = reg[target])\n",
        "\n",
        "@qfunc\n",
        "def my_controlled_unitary(q:QArray[QBit], w:QParam[float], ctrl:QArray[QBit], target:QParam[int]) -> None: #3\n",
        "      within_apply(compute=lambda: y_rotation(w,q,target), action=lambda: unitary_control(q, ctrl, target))\n",
        "\n",
        "@qfunc\n",
        "def my_unitary(q:QArray[QBit], w:QParam[float],target:QParam[int]) -> None:  #3\n",
        "      within_apply(compute=lambda: y_rotation(w,q,target), action=lambda: X(q[target]))"
      ]
    },
    {
      "cell_type": "markdown",
      "metadata": {
        "id": "Zh5ACZswEPmN"
      },
      "source": [
        "## Sparse State Prep\n",
        "Describes the arguments and setup for preparing a sparse quantum state:\n",
        "\n",
        "- Initial setup includes defining quantum bit requirements and preparing the environment.\n",
        "- Integration of classical functions to set up and manipulate quantum state preparation based on given sparse states.\n",
        "\n",
        "### Algorithm 1\n",
        "- **Purpose**: The primary function of `algorithm_1` is to efficiently prepare a sparse quantum state based on a given set of sparse state descriptions. It utilizes classical pre-processing to determine the optimal sequence of quantum gates.\n",
        "- **Process**:\n",
        "  - It begins by identifying the qubits and the operations that will result in the greatest simplification of the quantum state based on the input data.\n",
        "  - The algorithm iteratively processes subsets of quantum states, toggling qubits and adjusting their probabilities to converge towards the desired sparse state.\n",
        "  - Each iteration updates operation lists which are used to guide the quantum operations on the actual quantum hardware.\n",
        "  "
      ]
    },
    {
      "cell_type": "code",
      "execution_count": null,
      "metadata": {
        "id": "HbS6fatrEPmO"
      },
      "outputs": [],
      "source": [
        "def algorithm_1(s,n, ops1, ops2, ops3, ops4, ops5, n9):\n",
        "    dif_qubits = [] #Where to operate\n",
        "    dif_values = [] #What operation\n",
        "\n",
        "    #Preprocessing\n",
        "    T = s\n",
        "\n",
        "    dif_qubits, dif_values, t = process_subsets(T, n, dif_qubits, dif_values)\n",
        "\n",
        "    dif = dif_qubits.pop()\n",
        "    dif_values.pop()\n",
        "\n",
        "    x_1 = t[0]\n",
        "    t_dagger = [x for x in s if all(x[0][q] == v for q, v in zip(dif_qubits, dif_values))]\n",
        "    t_dagger.remove(x_1)\n",
        "\n",
        "\n",
        "    dif_qubits, dif_values, t_dagger = process_subsets(t_dagger, n, dif_qubits, dif_values)\n",
        "\n",
        "    x_2 = t_dagger[0]\n",
        "\n",
        "\n",
        "    #Storing necessary operations\n",
        "    toggle_operations(dif,n,x_1,ops1,ops2,s)\n",
        "\n",
        "    for b in range(n):\n",
        "        if b != dif and x_1[0][b] != x_2[0][b]:\n",
        "            conditional_toggle(ops1,ops3,n,dif,b,s)\n",
        "\n",
        "    for b in dif_qubits:\n",
        "        toggle_operations(b,n,x_2,ops1,ops2,s)\n",
        "\n",
        "\n",
        "    alpha, beta = calc_alpha_beta(x_1,x_2)\n",
        "\n",
        "    ops1 += [3]\n",
        "    sy = [alpha,beta, dif_qubits, dif]\n",
        "\n",
        "    if len(dif_qubits) > 0:\n",
        "        n9 += [len(dif_qubits)]\n",
        "    else:\n",
        "        sy.remove(dif_qubits)\n",
        "\n",
        "    ops4 += [sy]\n",
        "    s.remove(x_1)\n",
        "\n",
        "    if len(s) > 1:\n",
        "        algorithm_1(s,n, ops1, ops2, ops3, ops4, ops5, n9)\n",
        "    else:\n",
        "        ops1 += [4]\n",
        "        ops5 += [x_2[0]]"
      ]
    },
    {
      "cell_type": "markdown",
      "metadata": {
        "id": "bEZpJv7BEPmO"
      },
      "source": [
        "### Main Function Implementation\n",
        "- **Purpose**: The `main` function orchestrates the overall setup and execution of the sparse state preparation.\n",
        "- **Functionality**:\n",
        "  - It initializes the quantum environment with the necessary number of qubits based on the input state descriptions.\n",
        "  - The sparse states are first converted into a format suitable for quantum operations using `dict_to_3d_array`.\n",
        "  - The main function then invokes `algorithm_1` to find the necessary operation to prepare the sparse quantum state.\n",
        "  - After `algorithm_1` completes, the `main` function applies the quantum operations to finalize the state preparation.\n",
        "  - It is responsible for managing and applying the computed operations to the quantum system, effectively translating the classical pre-processing results into quantum manipulations."
      ]
    },
    {
      "cell_type": "code",
      "execution_count": null,
      "metadata": {
        "id": "sOTZhJhJEPmO",
        "colab": {
          "base_uri": "https://localhost:8080/"
        },
        "outputId": "c2538a84-2151-4227-cff6-8f6498ee11f0"
      },
      "outputs": [
        {
          "output_type": "stream",
          "name": "stdout",
          "text": [
            "[4, 3, 3, 2]\n",
            "[]\n",
            "[[2, 1]]\n",
            "[[0.25, 0.75, 2], [0.6666666666666666, 0.3333333333333333, [2], 0]]\n",
            "[[0, 0, 0]]\n",
            "[1]\n",
            "Opening: https://platform.classiq.io/circuit/14d8f160-e3bc-4bbd-a595-a4ee3144fa65?version=0.39.0\n"
          ]
        }
      ],
      "source": [
        "@qfunc\n",
        "def main(psi: Output[QArray[QBit]]):\n",
        "\n",
        "    #Arguments for algorithm1()\n",
        "    sparse_states = {'000': 0.25, '001': 0.5, '111': 0.25}\n",
        "    NUM_QUBITS = len(next(iter(sparse_states)))\n",
        "\n",
        "    which_gate = []#Stores operations\n",
        "    not_qubits = []\n",
        "    cnot_qubits = []\n",
        "    unitary_qubits = []\n",
        "    last_string = []\n",
        "    dif_bits_count = []\n",
        "\n",
        "    #End of arguments\n",
        "    #Allocate qubits for output\n",
        "    allocate(NUM_QUBITS, psi)\n",
        "\n",
        "    sparse_states = dict_to_3d_array(sparse_states)\n",
        "    if len(sparse_states[0]) > 1:\n",
        "        #Reference https://htor.inf.ethz.ch/publications/img/quantum_dac.pdf to understand algorithm_1() and its relationship to implementation\n",
        "        algorithm_1(sparse_states, NUM_QUBITS, which_gate, not_qubits, cnot_qubits, unitary_qubits, last_string, dif_bits_count)\n",
        "\n",
        "        #which_gate: 1 is nots, 2 is cnots, 3 is either unitary cnots or unitary nots, 4 is t_dagger\n",
        "\n",
        "        #Add NOT gates that set all qubits to 0 to list of ops1 and the qubit indexes for these gates\n",
        "        for index in last_string:\n",
        "          if index == 1:\n",
        "            which_gate += [1]\n",
        "            not_qubits += index\n",
        "\n",
        "        which_gate.reverse()\n",
        "        not_qubits.reverse()\n",
        "        cnot_qubits.reverse()\n",
        "        unitary_qubits.reverse()\n",
        "        last_string.reverse()\n",
        "        dif_bits_count.reverse()\n",
        "\n",
        "        print(which_gate)\n",
        "        print(not_qubits)\n",
        "        print(cnot_qubits)\n",
        "        print(unitary_qubits)\n",
        "        print(last_string)\n",
        "        print(dif_bits_count)\n",
        "\n",
        "        #Code to implement NOT, CNOT gates\n",
        "        for gate in which_gate:\n",
        "          if gate == 1:\n",
        "            #NOT\n",
        "            X(psi[NUM_QUBITS-1-not_qubits[0]])\n",
        "            not_qubits.pop(0)\n",
        "          elif gate == 2:\n",
        "            #CNOT\n",
        "            CX(psi[NUM_QUBITS-1-cnot_qubits[0][0]], psi[NUM_QUBITS-1-cnot_qubits[0][1]])\n",
        "            cnot_qubits.pop(0)\n",
        "          elif gate == 3:\n",
        "            theta = math.atan2(abs(unitary_qubits[0][1]**0.5), abs(unitary_qubits[0][0]**0.5))\n",
        "            if len(unitary_qubits[0]) == 4:\n",
        "\n",
        "              controls = unitary_qubits[0][2]\n",
        "              target = unitary_qubits[0][3]\n",
        "              j = QArray(\"j\")\n",
        "              allocate(dif_bits_count[0], j)\n",
        "              k = 0\n",
        "              for b in controls:\n",
        "                my_controlled_unitary(j, theta, psi[b], k)\n",
        "                k+=1\n",
        "              my_controlled_unitary(psi, theta, j, NUM_QUBITS-1-target)\n",
        "              dif_bits_count.pop(0)\n",
        "            else:\n",
        "              my_unitary(psi, theta, unitary_qubits[0][2])\n",
        "            unitary_qubits.pop(0)\n",
        "\n",
        "        #TODO YOUR CODE ENDS HERE\n",
        "    else:\n",
        "         for b in range(NUM_QUBITS):\n",
        "            if sparse_states[0][0][b]==1:\n",
        "                X(psi[NUM_QUBITS-1-b])\n",
        "\n",
        "model = create_model(main)\n",
        "qprog = synthesize(model)\n",
        "show(qprog)"
      ]
    },
    {
      "cell_type": "markdown",
      "metadata": {
        "id": "Xm-1TTxJEPmO"
      },
      "source": [
        "## Good Luck!\n",
        "\n",
        "HINT: If you are getting inconsistent results when running code cells repeatedly, run all cells at once or restart your notebook kernel."
      ]
    }
  ],
  "metadata": {
    "kernelspec": {
      "display_name": "Python 3",
      "language": "python",
      "name": "python3"
    },
    "language_info": {
      "codemirror_mode": {
        "name": "ipython",
        "version": 3
      },
      "file_extension": ".py",
      "mimetype": "text/x-python",
      "name": "python",
      "nbconvert_exporter": "python",
      "pygments_lexer": "ipython3",
      "version": "3.11.8"
    },
    "colab": {
      "provenance": []
    }
  },
  "nbformat": 4,
  "nbformat_minor": 0
}